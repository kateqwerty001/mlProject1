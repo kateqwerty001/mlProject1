{
 "cells": [
  {
   "cell_type": "code",
   "execution_count": 2,
   "metadata": {},
   "outputs": [],
   "source": [
    "import pandas as pd\n",
    "import numpy as np\n",
    "import sklearn\n",
    "from sklearn.model_selection import train_test_split\n",
    "data=pd.read_csv('data/data.csv')\n",
    "y = np.array(data['DEFAULT'])\n",
    "\n",
    "X_train, X_test, y_train, y_test = train_test_split(\n",
    "    data, y, stratify=y, test_size=0.3, random_state=42\n",
    ")"
   ]
  },
  {
   "cell_type": "code",
   "execution_count": 3,
   "metadata": {},
   "outputs": [],
   "source": [
    "from sklearn.pipeline import Pipeline\n",
    "from sklearn.compose import ColumnTransformer\n",
    "from sklearn.preprocessing import StandardScaler, OneHotEncoder\n",
    "from sklearn.impute import SimpleImputer\n",
    "from sklearn.decomposition import PCA\n",
    "from sklearn.ensemble import RandomForestClassifier\n",
    "\n",
    "\n",
    "selected_numeric_features = ['INCOME', 'SAVINGS', 'DEBT', 'R_SAVINGS_INCOME', 'R_DEBT_INCOME',\n",
    "       'R_DEBT_SAVINGS', 'T_CLOTHING_12', \n",
    "       'R_CLOTHING_INCOME', 'R_CLOTHING_SAVINGS', 'R_CLOTHING_DEBT',\n",
    "       'T_EDUCATION_12', 'R_EDUCATION_INCOME',\n",
    "       'R_EDUCATION_SAVINGS', 'R_EDUCATION_DEBT', 'T_ENTERTAINMENT_12',\n",
    "       'R_ENTERTAINMENT_INCOME',\n",
    "       'R_ENTERTAINMENT_SAVINGS', 'R_ENTERTAINMENT_DEBT', 'T_FINES_12',\n",
    "       'R_FINES_INCOME', 'R_FINES_SAVINGS',\n",
    "       'R_FINES_DEBT', 'T_GAMBLING_12',\n",
    "       'R_GAMBLING_INCOME', 'R_GAMBLING_SAVINGS', 'R_GAMBLING_DEBT',\n",
    "       'T_GROCERIES_12', 'R_GROCERIES_INCOME',\n",
    "       'R_GROCERIES_SAVINGS', 'R_GROCERIES_DEBT', 'T_HEALTH_12',\n",
    "       'R_HEALTH_INCOME', 'R_HEALTH_SAVINGS', 'R_HEALTH_DEBT',\n",
    "       'T_HOUSING_12', 'R_HOUSING_INCOME',\n",
    "       'R_HOUSING_SAVINGS', 'R_HOUSING_DEBT', 'T_TAX_12',\n",
    "       'R_TAX_INCOME', 'R_TAX_SAVINGS', 'R_TAX_DEBT', 'T_TRAVEL_12',\n",
    "       'R_TRAVEL_INCOME', 'R_TRAVEL_SAVINGS',\n",
    "       'R_TRAVEL_DEBT', 'T_UTILITIES_12', 'T_EXPENDITURE_12',\n",
    "       'R_UTILITIES_INCOME', 'R_UTILITIES_SAVINGS', 'R_UTILITIES_DEBT',\n",
    "       'R_EXPENDITURE_INCOME', 'R_EXPENDITURE_SAVINGS', 'R_EXPENDITURE_DEBT']\n",
    "\n",
    "\n",
    "preprocessor = ColumnTransformer(\n",
    "    transformers=[\n",
    "        ('num', StandardScaler(), selected_numeric_features),\n",
    "        ('cat', OneHotEncoder(handle_unknown='ignore'), ['CAT_GAMBLING'])\n",
    "    ])\n",
    "\n"
   ]
  },
  {
   "cell_type": "code",
   "execution_count": 16,
   "metadata": {},
   "outputs": [],
   "source": [
    "clf = Pipeline(steps=[('preprocessor', preprocessor),\n",
    "                      ('pca', PCA(n_components=15)),\n",
    "                      ('classifier', RandomForestClassifier(n_estimators=500,\n",
    "                                                            min_samples_split=39,\n",
    "                                                            min_samples_leaf=18,\n",
    "                                                            max_features='sqrt',\n",
    "                                                            max_depth=11,\n",
    "                                                            bootstrap=False,\n",
    "                                                            random_state=0))])\n",
    "#      almost same                                           min_samples_leaf=18,\n",
    "#                                                            max_features='log2',\n",
    "#                                                            max_depth=11,\n",
    "#                                                            bootstrap=False,\n",
    "#                                                            random_state=0\n",
    "\n"
   ]
  },
  {
   "cell_type": "code",
   "execution_count": 17,
   "metadata": {},
   "outputs": [],
   "source": [
    "clf.fit(X_train, y_train)\n",
    "\n",
    "predictions = clf.predict(X_test)"
   ]
  },
  {
   "cell_type": "code",
   "execution_count": 18,
   "metadata": {},
   "outputs": [
    {
     "name": "stdout",
     "output_type": "stream",
     "text": [
      "              precision    recall  f1-score   support\n",
      "\n",
      "           0       0.74      0.98      0.84       172\n",
      "           1       0.71      0.15      0.24        68\n",
      "\n",
      "    accuracy                           0.74       240\n",
      "   macro avg       0.73      0.56      0.54       240\n",
      "weighted avg       0.74      0.74      0.67       240\n",
      "\n",
      "Accuracy: 0.7416666666666667\n"
     ]
    }
   ],
   "source": [
    "from sklearn.metrics import classification_report, accuracy_score\n",
    "\n",
    "print(classification_report(y_test, predictions))\n",
    "print(\"Accuracy:\", accuracy_score(y_test, predictions))"
   ]
  },
  {
   "cell_type": "code",
   "execution_count": 19,
   "metadata": {},
   "outputs": [
    {
     "name": "stdout",
     "output_type": "stream",
     "text": [
      "Cross-validation scores: [0.75       0.73214286 0.75       0.71428571 0.75       0.75\n",
      " 0.75       0.75       0.75       0.73214286 0.75       0.73214286\n",
      " 0.73214286 0.73214286 0.75       0.67857143 0.75       0.73214286\n",
      " 0.75       0.75       0.78571429 0.69642857 0.75       0.78571429\n",
      " 0.73214286 0.69642857 0.75       0.73214286 0.73214286 0.73214286]\n",
      "Mean cross-validation score: 0.7392857142857143\n"
     ]
    }
   ],
   "source": [
    "from sklearn.model_selection import cross_val_score\n",
    "from sklearn.model_selection import RepeatedStratifiedKFold\n",
    "\n",
    "cv = RepeatedStratifiedKFold(n_splits=10, n_repeats=3, random_state=1)\n",
    "cv_scores = cross_val_score(clf, X_train, y_train,scoring='accuracy', cv=cv, n_jobs=-1, error_score='raise') \n",
    "\n",
    "print(\"Cross-validation scores:\", cv_scores)\n",
    "print(\"Mean cross-validation score:\", np.mean(cv_scores))"
   ]
  },
  {
   "cell_type": "code",
   "execution_count": 48,
   "metadata": {},
   "outputs": [
    {
     "data": {
      "text/plain": [
       "30"
      ]
     },
     "execution_count": 48,
     "metadata": {},
     "output_type": "execute_result"
    }
   ],
   "source": [
    "cv.get_n_splits(X_train, y_train)"
   ]
  }
 ],
 "metadata": {
  "kernelspec": {
   "display_name": "base",
   "language": "python",
   "name": "python3"
  },
  "language_info": {
   "codemirror_mode": {
    "name": "ipython",
    "version": 3
   },
   "file_extension": ".py",
   "mimetype": "text/x-python",
   "name": "python",
   "nbconvert_exporter": "python",
   "pygments_lexer": "ipython3",
   "version": "3.9.12"
  }
 },
 "nbformat": 4,
 "nbformat_minor": 2
}
