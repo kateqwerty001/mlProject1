{
 "cells": [
  {
   "cell_type": "code",
   "execution_count": 26,
   "metadata": {},
   "outputs": [],
   "source": [
    "import pandas as pd\n",
    "import numpy as np\n",
    "import sklearn\n",
    "from sklearn.model_selection import train_test_split\n",
    "data=pd.read_csv('data/data.csv')"
   ]
  },
  {
   "cell_type": "code",
   "execution_count": 62,
   "metadata": {},
   "outputs": [
    {
     "name": "stderr",
     "output_type": "stream",
     "text": [
      "C:\\Users\\Huawei\\AppData\\Local\\Temp\\ipykernel_9736\\211689055.py:27: SettingWithCopyWarning: \n",
      "A value is trying to be set on a copy of a slice from a DataFrame.\n",
      "Try using .loc[row_indexer,col_indexer] = value instead\n",
      "\n",
      "See the caveats in the documentation: https://pandas.pydata.org/pandas-docs/stable/user_guide/indexing.html#returning-a-view-versus-a-copy\n",
      "  X['CAT_GAMBLING'] = le.fit_transform(X['CAT_GAMBLING'])\n"
     ]
    }
   ],
   "source": [
    "baseColumns = ['INCOME', 'SAVINGS', 'DEBT', 'R_SAVINGS_INCOME', 'R_DEBT_INCOME',\n",
    "       'R_DEBT_SAVINGS', 'T_CLOTHING_12', \n",
    "       'R_CLOTHING_INCOME', 'R_CLOTHING_SAVINGS', 'R_CLOTHING_DEBT',\n",
    "       'T_EDUCATION_12', 'R_EDUCATION_INCOME',\n",
    "       'R_EDUCATION_SAVINGS', 'R_EDUCATION_DEBT', 'T_ENTERTAINMENT_12',\n",
    "       'R_ENTERTAINMENT_INCOME',\n",
    "       'R_ENTERTAINMENT_SAVINGS', 'R_ENTERTAINMENT_DEBT', 'T_FINES_12',\n",
    "       'R_FINES_INCOME', 'R_FINES_SAVINGS',\n",
    "       'R_FINES_DEBT', 'T_GAMBLING_12',\n",
    "       'R_GAMBLING_INCOME', 'R_GAMBLING_SAVINGS', 'R_GAMBLING_DEBT',\n",
    "       'T_GROCERIES_12', 'R_GROCERIES_INCOME',\n",
    "       'R_GROCERIES_SAVINGS', 'R_GROCERIES_DEBT', 'T_HEALTH_12',\n",
    "       'R_HEALTH_INCOME', 'R_HEALTH_SAVINGS', 'R_HEALTH_DEBT',\n",
    "       'T_HOUSING_12', 'R_HOUSING_INCOME',\n",
    "       'R_HOUSING_SAVINGS', 'R_HOUSING_DEBT', 'T_TAX_12',\n",
    "       'R_TAX_INCOME', 'R_TAX_SAVINGS', 'R_TAX_DEBT', 'T_TRAVEL_12',\n",
    "       'R_TRAVEL_INCOME', 'R_TRAVEL_SAVINGS',\n",
    "       'R_TRAVEL_DEBT', 'T_UTILITIES_12', 'T_EXPENDITURE_12',\n",
    "       'R_UTILITIES_INCOME', 'R_UTILITIES_SAVINGS', 'R_UTILITIES_DEBT',\n",
    "       'R_EXPENDITURE_INCOME', 'R_EXPENDITURE_SAVINGS', 'R_EXPENDITURE_DEBT',\n",
    "       'CAT_GAMBLING', 'CAT_DEBT', 'CAT_CREDIT_CARD', 'CAT_MORTGAGE',\n",
    "       'CAT_SAVINGS_ACCOUNT', 'CAT_DEPENDENTS']\n",
    "\n",
    "X= data[baseColumns]\n",
    "from sklearn.preprocessing import LabelEncoder\n",
    "le = LabelEncoder()\n",
    "X['CAT_GAMBLING'] = le.fit_transform(X['CAT_GAMBLING'])"
   ]
  },
  {
   "cell_type": "code",
   "execution_count": 28,
   "metadata": {},
   "outputs": [],
   "source": [
    "origColumns = ['INCOME', 'SAVINGS', 'DEBT', \n",
    "       'T_CLOTHING_12', 'T_EDUCATION_12', 'T_ENTERTAINMENT_12',\n",
    "       'T_FINES_12', 'T_GAMBLING_12', 'T_GROCERIES_12', 'T_HEALTH_12',\n",
    "       'T_HOUSING_12', 'T_TAX_12', 'T_TRAVEL_12',\n",
    "       'T_UTILITIES_12', 'T_EXPENDITURE_12',\n",
    "       'CAT_GAMBLING', 'CAT_DEBT', 'CAT_CREDIT_CARD', 'CAT_MORTGAGE',\n",
    "       'CAT_SAVINGS_ACCOUNT', 'CAT_DEPENDENTS']\n"
   ]
  },
  {
   "cell_type": "code",
   "execution_count": 29,
   "metadata": {},
   "outputs": [],
   "source": [
    "import matplotlib.pyplot as plt\n",
    "import seaborn as sns\n",
    "\n",
    "columns = origColumns + ['DEFAULT']\n",
    "\n",
    "#sns.pairplot(data[columns], hue='DEFAULT', palette='tab10', markers='.', height=2.5)\n",
    "#plt.show()"
   ]
  },
  {
   "cell_type": "code",
   "execution_count": 30,
   "metadata": {},
   "outputs": [
    {
     "data": {
      "text/plain": [
       "\"from sklearn.model_selection import train_test_split\\nZ=X[origColumns+['DEFAULT']]\\ny = np.array(X['DEFAULT'])\\n\\nX_train, X_test, y_train, y_test = train_test_split(\\n    Z, y, stratify=y, test_size=0.3, random_state=42\\n)\""
      ]
     },
     "execution_count": 30,
     "metadata": {},
     "output_type": "execute_result"
    }
   ],
   "source": [
    "'''from sklearn.model_selection import train_test_split\n",
    "Z=X[origColumns+['DEFAULT']]\n",
    "y = np.array(X['DEFAULT'])\n",
    "\n",
    "X_train, X_test, y_train, y_test = train_test_split(\n",
    "    Z, y, stratify=y, test_size=0.3, random_state=42\n",
    ")'''"
   ]
  },
  {
   "cell_type": "code",
   "execution_count": 31,
   "metadata": {},
   "outputs": [
    {
     "data": {
      "text/plain": [
       "\"import pandas as pd\\nimport matplotlib.pyplot as plt\\nplt.figure(figsize=(15, 10))\\npd.plotting.parallel_coordinates(Z, 'DEFAULT', color=('#FF5733', '#1F77B4'))\\nplt.show()\""
      ]
     },
     "execution_count": 31,
     "metadata": {},
     "output_type": "execute_result"
    }
   ],
   "source": [
    "'''import pandas as pd\n",
    "import matplotlib.pyplot as plt\n",
    "plt.figure(figsize=(15, 10))\n",
    "pd.plotting.parallel_coordinates(Z, 'DEFAULT', color=('#FF5733', '#1F77B4'))\n",
    "plt.show()'''"
   ]
  },
  {
   "cell_type": "code",
   "execution_count": 32,
   "metadata": {},
   "outputs": [],
   "source": [
    "from sklearn.model_selection import train_test_split\n",
    "\n",
    "y = np.array(data['DEFAULT'])\n",
    "\n",
    "X_train, X_test, y_train, y_test = train_test_split(\n",
    "    X, y, stratify=y, test_size=0.3, random_state=42\n",
    ")"
   ]
  },
  {
   "cell_type": "code",
   "execution_count": 33,
   "metadata": {},
   "outputs": [],
   "source": [
    "model = LinearRegression()\n",
    "model.fit(X, y)\n",
    "importance = model.coef_\n",
    "#for feature, coef in zip(X.columns, importance):\n",
    "#    print('Feature: %s, Score: %.5f' % (feature, coef))"
   ]
  },
  {
   "cell_type": "markdown",
   "metadata": {},
   "source": [
    "Feature: R_CLOTHING_DEBT, Score: 0.34116 \\\n",
    "Feature: R_EDUCATION_SAVINGS, Score: 0.43748    \\\n",
    "Feature: R_EDUCATION_DEBT, Score: 0.42803\\\n",
    "Feature: T_ENTERTAINMENT_12, Score: -0.00004\\\n",
    "Feature: R_ENTERTAINMENT_INCOME, Score: 0.13253\\\n",
    "Feature: R_ENTERTAINMENT_SAVINGS, Score: 0.47103\\\n",
    "Feature: R_ENTERTAINMENT_DEBT, Score: -0.13593\\\n",
    "Feature: R_FINES_INCOME, Score: -71.12820\\\n",
    "Feature: R_FINES_SAVINGS, Score: 24.50323\\\n",
    "Feature: R_FINES_DEBT, Score: -16.26627\\\n",
    "Feature: R_GAMBLING_INCOME, Score: -1.49988\\\n",
    "Feature: R_GAMBLING_SAVINGS, Score: 0.46278\\\n",
    "Feature: R_GAMBLING_DEBT, Score: -1.56649\\\n",
    "Feature: R_GROCERIES_INCOME, Score: 0.62300\\\n",
    "Feature: R_GROCERIES_SAVINGS, Score: -0.37814\\\n",
    "Feature: R_GROCERIES_DEBT, Score: -0.25541\\\n",
    "Feature: R_HEALTH_INCOME, Score: -0.52448\\\n",
    "Feature: R_HEALTH_SAVINGS, Score: 1.76961\\\n",
    "Feature: R_HEALTH_DEBT, Score: -0.10912\\\n",
    "Feature: R_TAX_INCOME, Score: -1.00458\\\n",
    "Feature: R_TAX_SAVINGS, Score: -1.86040\\\n",
    "Feature: R_TAX_DEBT, Score: -1.51323\\\n",
    "Feature: R_TRAVEL_INCOME, Score: 0.27718\\\n",
    "Feature: R_TRAVEL_SAVINGS, Score: 0.34211\\\n",
    "Feature: R_UTILITIES_INCOME, Score: -1.73442\\\n",
    "Feature: R_UTILITIES_SAVINGS, Score: 2.79788\\\n",
    "Feature: R_UTILITIES_DEBT, Score: 0.71137\\\n",
    "Feature: R_EXPENDITURE_SAVINGS, Score: -0.32852\\\n",
    "Feature: CAT_DEBT, Score: 0.22443\\\n",
    "Feature: CAT_CREDIT_CARD, Score: 0.10182\\\n",
    "Feature: CAT_MORTGAGE, Score: 0.16143\\\n",
    "Feature: CAT_SAVINGS_ACCOUNT, Score: 0.16711\\\n",
    "Feature: CAT_DEPENDENTS, Score: 0.10361\\"
   ]
  },
  {
   "cell_type": "code",
   "execution_count": 43,
   "metadata": {},
   "outputs": [],
   "source": [
    "from sklearn.feature_selection import mutual_info_classif\n",
    "\n",
    "mi_scores = mutual_info_classif(X, y)\n",
    "\n",
    "#for feature, score in zip(X, mi_scores):\n",
    "#    print(f\"Feature: {feature}, Mutual Information Score: {score}\")"
   ]
  },
  {
   "cell_type": "markdown",
   "metadata": {},
   "source": [
    "Feature: R_DEBT_INCOME, Mutual Information Score: 0.0314856697319168 \\\n",
    "Feature: R_DEBT_SAVINGS, Mutual Information Score: 0.030943733875825163\\\n",
    "Feature: INCOME, Mutual Information Score: 0.0029503308530878236\\\n",
    "Feature: T_CLOTHING_12, Mutual Information Score: 0.017011503925856708\\\n",
    "Feature: R_CLOTHING_DEBT, Mutual Information Score: 0.03135237046508643\\\n",
    "Feature: R_EDUCATION_DEBT, Mutual Information Score: 0.016174740755411365\\\n",
    "Feature: T_ENTERTAINMENT_12, Mutual Information Score: 0.02013466639874606\\\n",
    "Feature: R_ENTERTAINMENT_INCOME, Mutual Information Score: 0.021202297446068386\\\n",
    "Feature: R_ENTERTAINMENT_DEBT, Mutual Information Score: 0.02619294642004788\\\n",
    "Feature: R_HEALTH_INCOME, Mutual Information Score: 0.020749516404370505\\\n",
    "Feature: R_HEALTH_DEBT, Mutual Information Score: 0.02837709585117021\\\n",
    "Feature: T_HOUSING_12, Mutual Information Score: 0.02232125169940158\\\n",
    "Feature: R_HOUSING_SAVINGS, Mutual Information Score: 0.019204297295406958\\\n",
    "Feature: T_TAX_12, Mutual Information Score: 0.01934013956845515\\\n",
    "Feature: R_TAX_DEBT, Mutual Information Score: 0.028386470617642434\\\n",
    "Feature: R_TRAVEL_INCOME, Mutual Information Score: 0.0369259309350225\\\n",
    "Feature: R_TRAVEL_SAVINGS, Mutual Information Score: 0.027787418025028376\\\n",
    "Feature: R_TRAVEL_DEBT, Mutual Information Score: 0.03084974012983377\\\n",
    "Feature: T_UTILITIES_12, Mutual Information Score: 0.023362158907924258\\\n",
    "Feature: R_UTILITIES_INCOME, Mutual Information Score: 0.012431636249630396\\\n",
    "Feature: R_UTILITIES_DEBT, Mutual Information Score: 0.08325347682151696\\\n",
    "Feature: R_EXPENDITURE_DEBT, Mutual Information Score: 0.04960486611245485"
   ]
  },
  {
   "cell_type": "code",
   "execution_count": 83,
   "metadata": {},
   "outputs": [
    {
     "name": "stdout",
     "output_type": "stream",
     "text": [
      "Selected feature names: Index(['R_FINES_INCOME', 'R_FINES_SAVINGS', 'R_FINES_DEBT', 'R_GAMBLING_DEBT',\n",
      "       'R_TAX_DEBT', 'R_UTILITIES_INCOME', 'R_UTILITIES_SAVINGS'],\n",
      "      dtype='object')\n"
     ]
    }
   ],
   "source": [
    "from sklearn.feature_selection import RFE\n",
    "from sklearn.linear_model import LinearRegression\n",
    "\n",
    "estimator = LinearRegression()\n",
    "rfe = RFE(estimator, n_features_to_select=7)\n",
    "\n",
    "rfe.fit(X, y)\n",
    "selected_indices = [idx for idx, support in enumerate(rfe.support_) if support]\n",
    "selected_features = X.columns[selected_indices]\n",
    "\n",
    "print(\"Selected feature names:\", selected_features)"
   ]
  },
  {
   "cell_type": "code",
   "execution_count": 84,
   "metadata": {},
   "outputs": [],
   "source": [
    "X_1=X[['R_FINES_INCOME', 'R_FINES_SAVINGS', 'R_FINES_DEBT']]"
   ]
  },
  {
   "cell_type": "code",
   "execution_count": 85,
   "metadata": {},
   "outputs": [],
   "source": [
    "X_train, X_test, y_train, y_test = train_test_split(\n",
    "    X_1, y, stratify=y, test_size=0.3, random_state=42\n",
    ")"
   ]
  },
  {
   "cell_type": "code",
   "execution_count": 86,
   "metadata": {},
   "outputs": [
    {
     "name": "stdout",
     "output_type": "stream",
     "text": [
      "y:     [0 0 0 0 0 0 0 0 0 0]\n",
      "y_hat: [0 0 0 1 0 0 0 1 0 0]\n",
      "Accuracy: 0.7208333333333333\n",
      "Correct predictions for class 0: 172 / 172\n",
      "Correct predictions for class 1: 1 / 68\n"
     ]
    }
   ],
   "source": [
    "from sklearn.tree import DecisionTreeClassifier, plot_tree \n",
    "import matplotlib.pyplot as plt\n",
    "\n",
    "tree1 = DecisionTreeClassifier(max_depth=2)\n",
    "tree1.fit(X_train,y_train)\n",
    "\n",
    "y_hat = tree1.predict(X_test)\n",
    "print('y:     ' + str(y_hat[0:10]) + '\\ny_hat: ' + str(y_test[0:10]))\n",
    "\n",
    "#plt.figure(figsize=(20,20))\n",
    "#plot_tree(tree1, filled=True, feature_names=X_1.columns, class_names=['no', 'yes'])\n",
    "#plt.show()\n",
    "\n",
    "accuracy=accuracy_score(y_test, y_hat) \n",
    "\n",
    "correct_predictions_0 = np.sum((y_test == 0) & (y_hat == 0))\n",
    "correct_predictions_1 = np.sum((y_test == 1) & (y_hat == 1))\n",
    "print(\"Accuracy:\", accuracy)\n",
    "print(\"Correct predictions for class 0:\", correct_predictions_0, \"/\", np.sum(y_test == 0))\n",
    "print(\"Correct predictions for class 1:\", correct_predictions_1, \"/\", np.sum(y_test == 1))\n"
   ]
  },
  {
   "cell_type": "code",
   "execution_count": null,
   "metadata": {},
   "outputs": [],
   "source": []
  }
 ],
 "metadata": {
  "kernelspec": {
   "display_name": "base",
   "language": "python",
   "name": "python3"
  },
  "language_info": {
   "codemirror_mode": {
    "name": "ipython",
    "version": 3
   },
   "file_extension": ".py",
   "mimetype": "text/x-python",
   "name": "python",
   "nbconvert_exporter": "python",
   "pygments_lexer": "ipython3",
   "version": "3.9.12"
  }
 },
 "nbformat": 4,
 "nbformat_minor": 2
}
